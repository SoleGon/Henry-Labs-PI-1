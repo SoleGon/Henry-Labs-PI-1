{
 "cells": [
  {
   "cell_type": "code",
   "execution_count": 78,
   "metadata": {},
   "outputs": [],
   "source": [
    "import pandas as pd\n",
    "import numpy as np"
   ]
  },
  {
   "cell_type": "code",
   "execution_count": 79,
   "metadata": {},
   "outputs": [],
   "source": [
    "data= pd.read_csv('peliculasyseries.csv')"
   ]
  },
  {
   "cell_type": "code",
   "execution_count": 80,
   "metadata": {},
   "outputs": [
    {
     "name": "stdout",
     "output_type": "stream",
     "text": [
      "netflix 196\n"
     ]
    }
   ],
   "source": [
    "# Primera consulta: Cantidad de veces que aparece una keyword en el título de peliculas/series, por plataforma\n",
    "# Prueba Ejemplo: get_word_count(netflix,love)\n",
    "palabra='love'\n",
    "nombre_plataforma='netflix'\n",
    "\n",
    "if nombre_plataforma== 'netflix':\n",
    "    nombre=data[data['id'].str.startswith('n')] #Aca veo la plataforma indicada\n",
    "    titulo=nombre[nombre['title'].str.contains(str(palabra),case=False)] #titulo indicado, \n",
    "    conteo=titulo['id'].count()\n",
    "    print(nombre_plataforma, conteo)\n",
    "\n",
    "\n",
    "elif nombre_plataforma== 'amazon':\n",
    "    nombre=data[data['id'].str.startswith('a')] #Aca veo la plataforma indicada\n",
    "    titulo=nombre[nombre['title'].str.contains(str(palabra),case=False)] #titulo indicado, \n",
    "                                                        \n",
    "    conteo=titulo['id'].count()\n",
    "    print(nombre_plataforma, conteo)\n",
    "\n",
    "\n",
    "elif  nombre_plataforma== 'hulu':\n",
    "    nombre=data[data['id'].str.startswith('h')] #Aca veo la plataforma indicada\n",
    "    titulo=nombre[nombre['title'].str.contains(str(palabra),case=False)] #titulo indicado, \n",
    "    conteo=titulo['id'].count()\n",
    "    print(nombre_plataforma, conteo)\n",
    "\n",
    "\n",
    "elif  nombre_plataforma== 'disney':\n",
    "    nombre=data[data['id'].str.startswith('d')] #Aca veo la plataforma indicada\n",
    "    titulo=nombre[nombre['title'].str.contains(str(palabra),case=False)] #titulo indicado, \n",
    "    conteo=titulo['id'].count()\n",
    "    print(nombre_plataforma, conteo)\n",
    "else :\n",
    "    print('Verifique los valores ingresados ')"
   ]
  },
  {
   "cell_type": "code",
   "execution_count": 81,
   "metadata": {},
   "outputs": [
    {
     "name": "stdout",
     "output_type": "stream",
     "text": [
      "netflix 20\n"
     ]
    }
   ],
   "source": [
    "# Segunda Consulta: Cantidad de películas por plataforma con un puntaje mayor a XX en determinado año\n",
    "# Resultado Ejemplo= get_score_count(netflix,85,2010)\n",
    "\n",
    "nombre_plataforma= 'netflix'\n",
    "duracion='85'\n",
    "anio='2010'\n",
    "\n",
    "if nombre_plataforma == 'netflix':## si es netflix\n",
    "        nombrep=data[data['id'].str.startswith('n')] #Aca tengo la plataforma ingresada\n",
    "        if duracion == 'min':## aca filtro si es min, es pelicula\n",
    "            movies=nombrep[nombrep['type']=='movie'] ## Aca veo solo peliculas, que es la consulta\n",
    "            year=movies[movies['release_year'] == int(anio)] #Aca tengo el Año ingresado\n",
    "            tiempo= year.sort_values(by=['duration_int'], ascending= False)## Aca ordeno por tiempo de duracion\n",
    "            duracionenmin= tiempo.duration_int.values[0] ## respuesta a la consulta de los min de duracion-- el mayor\n",
    "    \n",
    "            ## el return indica la posicion, esta ordenado en forma descendente\n",
    "            rdo = {'Titulo': tiempo.iloc[0,2],'cantidad de min':[int(duracionenmin)],'duration_type':[str(duracion)]}\n",
    "            print( rdo)\n",
    "    \n",
    "        elif duracion == 'season': ## si es season son series y dara las temporadas\n",
    "       \n",
    "        \n",
    "            series= nombrep[nombrep['type']== 'tv show']## aca filtro las series\n",
    "       \n",
    "            year=series[series['release_year'] == int(anio)] #Aca tengo el Año ingresado\n",
    "            tiempo= year.sort_values(by=['duration_int'], ascending= False)## Aca ordeno por tiempo de duracion\n",
    "            titulo= tiempo.title.values[0] ## respuesta a la consulta del titulo-- el mayor\n",
    "            duracionenmin= tiempo.duration_int.values[0] ## respuesta a la consulta de los min de duracion-- el mayor\n",
    "            ## el return indica la posicion, esta ordenado en forma descendente\n",
    "            rdo = {'Titulo': tiempo.iloc[0,2],'cantidad de min':[int(duracionenmin)],'duration_type':[str(duracion)]}\n",
    "            print( rdo)\n",
    "\n",
    "elif nombre_plataforma == 'amazon':## si es amazon, repito el proceso\n",
    "        nombrep=data[data['id'].str.startswith('a')] #Aca tengo la plataforma ingresada\n",
    "        if duracion == 'min':## aca filtro si es min, es pelicula\n",
    "            movies=nombrep[nombrep['type']=='movie'] ## Aca veo solo peliculas, que es la consulta\n",
    "            year=movies[movies['release_year'] == int(anio)] #Aca tengo el Año ingresado\n",
    "            tiempo= year.sort_values(by=['duration_int'], ascending= False)## Aca ordeno por tiempo de duracion\n",
    "            duracionenmin= tiempo.duration_int.values[0] ## respuesta a la consulta de los min de duracion-- el mayor\n",
    "            ## el return indica la posicion, esta ordenado en forma descendente\n",
    "            rdo = {'Titulo': tiempo.iloc[0,2],'cantidad de min':[int(duracionenmin)],'duration_type':[str(duracion)]}\n",
    "            print( rdo)\n",
    "    \n",
    "        elif duracion == 'season':## si son series      \n",
    "            series= nombrep[nombrep['type']== 'tv show']## aca las filtro\n",
    "            year=series[series['release_year'] == int(anio)] #Aca tengo el Año ingresado\n",
    "            tiempo= year.sort_values(by=['duration_int'], ascending= False)## Aca ordeno por tiempo de duracion\n",
    "            duracionenmin= tiempo.duration_int.values[0] ## respuesta a la consulta de los min de duracion-- el mayor\n",
    "            ## el return indica la posicion, esta ordenado en forma descendente\n",
    "            rdo = {'Titulo': tiempo.iloc[0,2],'cantidad de min':[int(duracionenmin)],'duration_type':[str(duracion)]}\n",
    "            print( rdo)\n",
    "\n",
    "elif nombre_plataforma == 'hulu':## si es hulu\n",
    "        nombrep=data[data['id'].str.startswith('h')] #Aca tengo la plataforma ingresada\n",
    "        if duracion == 'min':## aca filtro si es min, es pelicula\n",
    "            movies=nombrep[nombrep['type']=='movie'] ## Aca veo solo peliculas, que es la consulta\n",
    "            year=movies[movies['release_year'] == int(anio)] #Aca tengo el Año ingresado\n",
    "            tiempo= year.sort_values(by=['duration_int'], ascending= False)## Aca ordeno por tiempo de duracion\n",
    "            duracionenmin= tiempo.duration_int.values[0] ## respuesta a la consulta de los min de duracion-- el mayor\n",
    "            ## el return indica la posicion, esta ordenado en forma descendente\n",
    "            rdo = {'Titulo': tiempo.iloc[0,2],'cantidad de min':[int(duracionenmin)],'duration_type':[str(duracion)]}\n",
    "            print( rdo)\n",
    "    \n",
    "        elif duracion == 'season':## si son series              \n",
    "            series= nombrep[nombrep['type']== 'tv show']## aca las tengo filtradas       \n",
    "            year=series[series['release_year'] == int(anio)] #Aca tengo el Año ingresado\n",
    "            tiempo= year.sort_values(by=['duration_int'], ascending= False)## Aca ordeno por tiempo de duracion\n",
    "            duracionenmin= tiempo.duration_int.values[0] ## respuesta a la consulta de los min de duracion-- el mayor\n",
    "            ## el return indica la posicion, esta ordenado en forma descendente\n",
    "            rdo = {'Titulo': tiempo.iloc[0,2],'cantidad de min':[int(duracionenmin)],'duration_type':[str(duracion)]}\n",
    "            print( rdo)\n",
    "\n",
    "elif nombre_plataforma == 'disney':## si es disney\n",
    "        nombrep=data[data['id'].str.startswith('d')] #Aca tengo la plataforma ingresada\n",
    "        if duracion == 'min':## aca filtro si es min, es pelicula\n",
    "            movies=nombrep[nombrep['type']=='movie'] ## Aca veo solo peliculas, que es la consulta\n",
    "            year=movies[movies['release_year'] == int(anio)] #Aca tengo el Año ingresado\n",
    "            tiempo= year.sort_values(by=['duration_int'], ascending= False)## Aca ordeno por tiempo de duracion            \n",
    "            duracionenmin= tiempo.duration_int.values[0] ## respuesta a la consulta de los min de duracion-- el mayor\n",
    "            ## el return indica la posicion, esta ordenado en forma descendente\n",
    "            rdo = {'Titulo': tiempo.iloc[0,2],'cantidad de min':[int(duracionenmin)],'duration_type':[str(duracion)]}\n",
    "            print( rdo)\n",
    "        \n",
    "        elif duracion == 'season':## si son series      \n",
    "            series= nombrep[nombrep['type']== 'tv show']## aca las filtro        \n",
    "            year=series[series['release_year'] == int(anio)] #Aca tengo el Año ingresado\n",
    "            tiempo= year.sort_values(by=['duration_int'], ascending= False)## Aca ordeno por tiempo de duracion            \n",
    "            duracionenmin= tiempo.duration_int.values[0] ## respuesta a la consulta de los min de duracion-- el mayor\n",
    "            ## el return indica la posicion, esta ordenado en forma descendente \n",
    "            rdo = {'Titulo': tiempo.iloc[0,2],'cantidad de min':[int(duracionenmin)],'duration_type':[str(duracion)]}\n",
    "            print( rdo)\n",
    "        \n",
    "        \n",
    "\n",
    "else:\n",
    "        print('Verfique los parametros ingresados')\n",
    "\n"
   ]
  },
  {
   "cell_type": "code",
   "execution_count": 82,
   "metadata": {},
   "outputs": [
    {
     "name": "stdout",
     "output_type": "stream",
     "text": [
      "abilene town\n"
     ]
    }
   ],
   "source": [
    "## Tercer Consulta: La segunda película con mayor score para una plataforma determinada, según el orden alfabético de los títulos\n",
    "#Prueba : get_second_score('amazon')\n",
    "\n",
    "p= 'amazon'\n",
    "\n",
    "if p== 'amazon':\n",
    "    movies=data[data['type']=='movie'] #Aca veo las peliculas\n",
    "    plat=movies[movies['id'].str.startswith('a')] #aAca veo la plataforma indicada\n",
    "    orden=plat.sort_values(by=['score', 'title'],ascending=[False, True])# Aca Ordeno segun lo solicitado    \n",
    "    df2= orden.title.iloc[1]\n",
    "    print(df2)\n",
    "\n",
    "\n",
    "elif p == 'netflix':\n",
    "    movies=data[data['type']=='movie'] #Aca veo las peliculas\n",
    "    plat=movies[movies['id'].str.startswith('n')] #aAca veo la plataforma indicada\n",
    "    orden=plat.sort_values(by=['score', 'title'],ascending=[False, True])# Aca Ordeno segun lo solicitado    \n",
    "    print(orden.title.iloc[1])\n",
    "\n",
    "\n",
    "elif p == 'disney':\n",
    "    movies=data[data['type']=='movie'] #Aca veo las peliculas\n",
    "    plat=movies[movies['id'].str.startswith('d')] #aAca veo la plataforma indicada\n",
    "    orden=plat.sort_values(by=['score', 'title'],ascending=[False, True])# Aca Ordeno segun lo solicitado    \n",
    "    print(orden.title.iloc[1])\n",
    "\n",
    "\n",
    "elif p == 'hulu':\n",
    "    movies=data[data['type']=='movie'] #Aca veo las peliculas\n",
    "    plat=movies[movies['id'].str.startswith('h')] #aAca veo la plataforma indicada\n",
    "    orden=plat.sort_values(by=['score', 'title'],ascending=[False, True])# Aca Ordeno segun lo solicitado    \n",
    "    print(orden.title.iloc[1])\n",
    "\n",
    "else:\n",
    "    print ('Verifique el valor ingresado')\n"
   ]
  },
  {
   "cell_type": "code",
   "execution_count": 83,
   "metadata": {},
   "outputs": [
    {
     "name": "stdout",
     "output_type": "stream",
     "text": [
      "{'Titulo': 'sairat', 'cantidad de min': 173, 'duration_type': 'min'}\n"
     ]
    }
   ],
   "source": [
    "## Película que más duró según año, plataforma y tipo de duración\n",
    "## Prueba: get_longest('netflix','min',2016);\n",
    "\n",
    "nombre_plataforma= 'netflix'\n",
    "duracion= 'min'\n",
    "año= 2016\n",
    "\n",
    "if nombre_plataforma == 'netflix':\n",
    "    movies=data[data['type']=='movie'] ## Aca veo solo peliculas, que es la consulta\n",
    "    nombrep=movies[movies['id'].str.startswith('n')] #Aca tengo la plataforma ingresada\n",
    "    durac=nombrep[nombrep['duration_type'] == (duracion)] #Aca veo el duration_type ingresado\n",
    "    year=durac[durac['release_year'] == int(año)] #Aca tengo el Año ingresado\n",
    "    tiempo= year.sort_values(by=['duration_int'], ascending= False)## Aca ordeno por tiempo de duracion\n",
    "    titulo= tiempo.title.iloc[0] ## respuesta a la consulta del titulo-- el mayor\n",
    "    duracionenmin= tiempo.duration_int.iloc[0] ## respuesta a la consulta de los min de duracion-- el mayor\n",
    "    \n",
    "    rdo = {'Titulo': (titulo),'cantidad de min':(duracionenmin),'duration_type':str(duracion)}\n",
    "    print(rdo)\n",
    "\n",
    "elif nombre_plataforma == 'disney':\n",
    "    movies=data[data['type']=='movie'] ## Aca veo solo peliculas, que es la consulta\n",
    "    nombrep=movies[movies['id'].str.startswith('d')] #Aca tengo la plataforma ingresada\n",
    "    durac=nombrep[nombrep['duration_type'] == (duracion)] #Aca veo el duration_type ingresado\n",
    "    year=durac[durac['release_year'] == int(año)] #Aca tengo el Año ingresado\n",
    "    tiempo= year.sort_values(by=['duration_int'], ascending= False)## Aca ordeno por tiempo de duracion\n",
    "    titulo= tiempo.title.iloc[0] ## respuesta a la consulta del titulo-- el mayor\n",
    "    duracionenmin= tiempo.duration_int.iloc[0] ## respuesta a la consulta de los min de duracion-- el mayor\n",
    "    \n",
    "    rdo = {'Titulo': (titulo),'cantidad de min':(duracionenmin),'duration_type':str(duracion)}\n",
    "    \n",
    "    print(rdo)\n",
    "\n",
    "elif nombre_plataforma == 'hulu':\n",
    "    movies=data[data['type']=='movie'] ## Aca veo solo peliculas, que es la consulta\n",
    "    nombrep=movies[movies['id'].str.startswith('h')] #Aca tengo la plataforma ingresada\n",
    "    durac=nombrep[nombrep['duration_type'] == (duracion)] #Aca veo el duration_type ingresado\n",
    "    year=durac[durac['release_year'] == int(año)] #Aca tengo el Año ingresado\n",
    "    tiempo= year.sort_values(by=['duration_int'], ascending= False)## Aca ordeno por tiempo de duracion\n",
    "    titulo= tiempo.title.iloc[0] ## respuesta a la consulta del titulo-- el mayor\n",
    "    duracionenmin= tiempo.duration_int.iloc[0] ## respuesta a la consulta de los min de duracion-- el mayor\n",
    "    \n",
    "    rdo = {'Titulo': (titulo),'cantidad de min':(duracionenmin),'duration_type':str(duracion)}\n",
    "    \n",
    "    print(rdo)\n",
    "\n",
    "elif nombre_plataforma == 'amazon':\n",
    "    movies=data[data['type']=='movie'] ## Aca veo solo peliculas, que es la consulta\n",
    "    nombrep=movies[movies['id'].str.startswith('a')] #Aca tengo la plataforma ingresada\n",
    "    durac=nombrep[nombrep['duration_type'] == (duracion)] #Aca veo el duration_type ingresado\n",
    "    year=durac[durac['release_year'] == int(año)] #Aca tengo el Año ingresado\n",
    "    tiempo= year.sort_values(by=['duration_int'], ascending= False)## Aca ordeno por tiempo de duracion\n",
    "    titulo= tiempo.title.iloc[0] ## respuesta a la consulta del titulo-- el mayor\n",
    "    duracionenmin= tiempo.duration_int.iloc[0] ## respuesta a la consulta de los min de duracion-- el mayor\n",
    "    \n",
    "    rdo = {'Titulo': (titulo),'cantidad de min':(duracionenmin),'duration_type':str(duracion)}\n",
    "    \n",
    "    print(rdo)\n",
    "\n",
    "else:\n",
    "    print('Verifique el valor ingresado')\n",
    "\n",
    "\n",
    "\n"
   ]
  },
  {
   "cell_type": "code",
   "execution_count": 86,
   "metadata": {},
   "outputs": [
    {
     "name": "stdout",
     "output_type": "stream",
     "text": [
      "{'Rating': '18+', 'Cantidad de Peliculas': 1243}\n"
     ]
    }
   ],
   "source": [
    "## Cantidad de Series y Peliculas por rating\n",
    "#Prueba : get_rating_count('18+')\n",
    "\n",
    "rating = '18+'\n",
    "\n",
    "df5= data[data['rating']== rating]## aca filtro x el concepto rating\n",
    "res= df5['id'].count()## aca cuentos los id para saber el total\n",
    "final= {'rating': [str(rating)], 'Cantidad': [str(res)]}## obtengo mi rdo\n",
    "print(final)\n",
    "\n"
   ]
  }
 ],
 "metadata": {
  "kernelspec": {
   "display_name": "Python 3",
   "language": "python",
   "name": "python3"
  },
  "language_info": {
   "codemirror_mode": {
    "name": "ipython",
    "version": 3
   },
   "file_extension": ".py",
   "mimetype": "text/x-python",
   "name": "python",
   "nbconvert_exporter": "python",
   "pygments_lexer": "ipython3",
   "version": "3.7.9 (tags/v3.7.9:13c94747c7, Aug 17 2020, 16:30:00) [MSC v.1900 64 bit (AMD64)]"
  },
  "orig_nbformat": 4,
  "vscode": {
   "interpreter": {
    "hash": "45a851a8e049304e8d8fc9276f397ed5699faa42a654317800ed71714fc34a6c"
   }
  }
 },
 "nbformat": 4,
 "nbformat_minor": 2
}
